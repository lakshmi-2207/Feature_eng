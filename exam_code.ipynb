{
  "cells": [
    {
      "cell_type": "code",
      "source": [
        "for i in range(0,5):\n",
        "  for  j in range(0,i+1):\n",
        "    print(\"*\",end=\"\")\n",
        "  print()"
      ],
      "metadata": {
        "colab": {
          "base_uri": "https://localhost:8080/"
        },
        "id": "QajZO5kl9s6d",
        "outputId": "0d43780b-55b0-4ee8-e330-33b9ddc6105b"
      },
      "id": "QajZO5kl9s6d",
      "execution_count": 3,
      "outputs": [
        {
          "output_type": "stream",
          "name": "stdout",
          "text": [
            "*\n",
            "**\n",
            "***\n",
            "****\n",
            "*****\n"
          ]
        }
      ]
    },
    {
      "cell_type": "code",
      "source": [
        "for i in range(0,5):\n",
        "  for j in range(0,i+1):\n",
        "    print(j,end=\"\")\n",
        "  print()"
      ],
      "metadata": {
        "colab": {
          "base_uri": "https://localhost:8080/"
        },
        "id": "BAqsQRaJ-i2L",
        "outputId": "a43d1c80-6887-4534-e35a-d9938800472a"
      },
      "id": "BAqsQRaJ-i2L",
      "execution_count": 5,
      "outputs": [
        {
          "output_type": "stream",
          "name": "stdout",
          "text": [
            "0\n",
            "01\n",
            "012\n",
            "0123\n",
            "01234\n"
          ]
        }
      ]
    },
    {
      "cell_type": "code",
      "source": [
        "a=input(\"enter the text \")\n",
        "v=0\n",
        "l=[\"a\",\"e\",\"i\",\"o\",\"u\",\"A\",\"E\",\"I\",\"O\",\"U\"]\n",
        "for i in a:\n",
        "  if i in l:\n",
        "    v=v+1\n",
        "print(v)"
      ],
      "metadata": {
        "colab": {
          "base_uri": "https://localhost:8080/"
        },
        "id": "vg2pPcO2-7ot",
        "outputId": "b80bca61-11ea-4b4e-8c10-eecad2ee0032"
      },
      "id": "vg2pPcO2-7ot",
      "execution_count": 7,
      "outputs": [
        {
          "output_type": "stream",
          "name": "stdout",
          "text": [
            "enter the text i love u\n",
            "4\n"
          ]
        }
      ]
    },
    {
      "cell_type": "code",
      "source": [
        "a=int(input(\"enter the no.\"))\n",
        "if a>1:\n",
        "  for i in range(2,a):\n",
        "    if a%2==0:\n",
        "      print(\"no. is not a prime\")\n",
        "    else:\n",
        "      print(\"no. is prime\")\n",
        "else:\n",
        "  print(\"no. is not a prime\")"
      ],
      "metadata": {
        "colab": {
          "base_uri": "https://localhost:8080/"
        },
        "id": "t5jgRf7UABwP",
        "outputId": "e80a91ff-0145-4586-96fa-c5dd28d5f2f5"
      },
      "id": "t5jgRf7UABwP",
      "execution_count": 8,
      "outputs": [
        {
          "output_type": "stream",
          "name": "stdout",
          "text": [
            "enter the no.3\n",
            "no. is prime\n"
          ]
        }
      ]
    },
    {
      "cell_type": "code",
      "source": [
        "n=int(input(\"enter the no.\"))\n",
        "sum=0\n",
        "d=len(str(n))\n",
        "for i in str(n):\n",
        "  sum=sum+int(i)**d\n",
        "if sum==n:\n",
        "  print(\"no. is armstrong\")\n",
        "else:\n",
        "  print(\"no. is not a armstrong\")"
      ],
      "metadata": {
        "colab": {
          "base_uri": "https://localhost:8080/"
        },
        "id": "M41XlpH5BFdr",
        "outputId": "e35bfb7b-eb11-4529-d67a-d7fbe94091f7"
      },
      "id": "M41XlpH5BFdr",
      "execution_count": 12,
      "outputs": [
        {
          "output_type": "stream",
          "name": "stdout",
          "text": [
            "enter the no.27\n",
            "no. is not a armstrong\n"
          ]
        }
      ]
    },
    {
      "cell_type": "code",
      "source": [
        "a = int(input(\"Enter the number: \"))\n",
        "sum = 0\n",
        "\n",
        "for i in range(1, a):\n",
        "    if a % i == 0:   # check if i is a divisor\n",
        "        sum = sum + i\n",
        "\n",
        "if a == sum:\n",
        "    print(\"Number is perfect\")\n",
        "else:\n",
        "    print(\"Number is not perfect\")\n"
      ],
      "metadata": {
        "colab": {
          "base_uri": "https://localhost:8080/"
        },
        "id": "2TvbND-3CiYE",
        "outputId": "5d571c5c-beb9-48dc-e293-93407231d4eb"
      },
      "id": "2TvbND-3CiYE",
      "execution_count": 13,
      "outputs": [
        {
          "output_type": "stream",
          "name": "stdout",
          "text": [
            "Enter the number: 2\n",
            "Number is not perfect\n"
          ]
        }
      ]
    },
    {
      "cell_type": "code",
      "source": [
        "a= input(\"Enter the text\")\n",
        "if a[::-1]==a:\n",
        "   print(\"palindrome\")\n",
        "else:\n",
        "   print(\"not a palindrome\")\n"
      ],
      "metadata": {
        "colab": {
          "base_uri": "https://localhost:8080/"
        },
        "id": "uXfidMKCCxf4",
        "outputId": "9aa2143f-35bc-48ef-e9e4-bbf6c8f10f82"
      },
      "id": "uXfidMKCCxf4",
      "execution_count": 16,
      "outputs": [
        {
          "output_type": "stream",
          "name": "stdout",
          "text": [
            "Enter the textnman\n",
            "not a palindrome\n"
          ]
        }
      ]
    },
    {
      "cell_type": "code",
      "source": [
        "l=[]\n",
        "odd=0\n",
        "even=0\n",
        "a=int(input(\" no. of elements in list \"))\n",
        "for i in range(a):\n",
        "  b=int(input(\"enter the element of list\"))\n",
        "  l.append(b)\n",
        "for j in l:\n",
        "  if j%2==0:\n",
        "    even=even+1\n",
        "  else:\n",
        "    odd=odd+1\n",
        "print(even)\n",
        "print(odd)"
      ],
      "metadata": {
        "colab": {
          "base_uri": "https://localhost:8080/"
        },
        "id": "sAax0Sv-DDFV",
        "outputId": "092975f0-6816-465b-b4d1-93ff6682b47f"
      },
      "id": "sAax0Sv-DDFV",
      "execution_count": 19,
      "outputs": [
        {
          "output_type": "stream",
          "name": "stdout",
          "text": [
            " no. of elements in list 4\n",
            "enter the element of list3\n",
            "enter the element of list4\n",
            "enter the element of list5\n",
            "enter the element of list4\n",
            "enter the element of list3\n",
            "2\n",
            "3\n"
          ]
        }
      ]
    },
    {
      "cell_type": "code",
      "source": [
        "print(\"welcome to calculator\")\n",
        "a=input(\"Enter +,-,*,/ for respective operation\")\n",
        "if a=='+':\n",
        "  b=int(input(\" enter the 1st no.\"))\n",
        "  c=int(input(\"enter the 2nd no.\"))\n",
        "  d=b+c\n",
        "  print(\" result\",d)\n",
        "elif a=='-':\n",
        "  b=int(input(\" enter the 1st no.\"))\n",
        "  c=int(input(\"enter the 2nd no.\"))\n",
        "  d=b-c\n",
        "  print(\" result\",d)\n",
        "elif a=='*':\n",
        "  b=int(input(\" enter the 1st no.\"))\n",
        "  c=int(input(\"enter the 2nd no.\"))\n",
        "  d=b*c\n",
        "  print(\" result\",d)\n",
        "elif a=='/':\n",
        "  b=int(input(\" enter the 1st no.\"))\n",
        "  c=int(input(\"enter the 2nd no.\"))\n",
        "  d=b/c\n",
        "  print(\" result\",d)"
      ],
      "metadata": {
        "id": "TB_7wlgrD0wc"
      },
      "id": "TB_7wlgrD0wc",
      "execution_count": null,
      "outputs": []
    },
    {
      "cell_type": "code",
      "source": [
        "#new"
      ],
      "metadata": {
        "id": "ld1A6dX-ENks"
      },
      "id": "ld1A6dX-ENks",
      "execution_count": null,
      "outputs": []
    },
    {
      "cell_type": "code",
      "source": [
        "a=int(input(\"enteer the no.\"))\n",
        "l=[]\n",
        "while a!=0:\n",
        "  l.append(a)\n",
        "  a=int(input(\"enter the no.\"))\n",
        "print(\"the elements before 0\",l)\n",
        "b=sum(l)\n",
        "print(\"the sum of elements\",b)\n",
        "\n",
        "\n"
      ],
      "metadata": {
        "colab": {
          "base_uri": "https://localhost:8080/",
          "height": 280
        },
        "id": "3GC4XZ19EPP8",
        "outputId": "da5855b4-4f80-482b-f985-1a004b5a9ede"
      },
      "id": "3GC4XZ19EPP8",
      "execution_count": 27,
      "outputs": [
        {
          "output_type": "stream",
          "name": "stdout",
          "text": [
            "enteer the no.3\n",
            "enter the no.4\n",
            "enter the no.0\n",
            "the elements before 0 [3, 4]\n"
          ]
        },
        {
          "output_type": "error",
          "ename": "TypeError",
          "evalue": "'int' object is not callable",
          "traceback": [
            "\u001b[0;31m---------------------------------------------------------------------------\u001b[0m",
            "\u001b[0;31mTypeError\u001b[0m                                 Traceback (most recent call last)",
            "\u001b[0;32m/tmp/ipython-input-1693856172.py\u001b[0m in \u001b[0;36m<cell line: 0>\u001b[0;34m()\u001b[0m\n\u001b[1;32m      5\u001b[0m   \u001b[0ma\u001b[0m\u001b[0;34m=\u001b[0m\u001b[0mint\u001b[0m\u001b[0;34m(\u001b[0m\u001b[0minput\u001b[0m\u001b[0;34m(\u001b[0m\u001b[0;34m\"enter the no.\"\u001b[0m\u001b[0;34m)\u001b[0m\u001b[0;34m)\u001b[0m\u001b[0;34m\u001b[0m\u001b[0;34m\u001b[0m\u001b[0m\n\u001b[1;32m      6\u001b[0m \u001b[0mprint\u001b[0m\u001b[0;34m(\u001b[0m\u001b[0;34m\"the elements before 0\"\u001b[0m\u001b[0;34m,\u001b[0m\u001b[0ml\u001b[0m\u001b[0;34m)\u001b[0m\u001b[0;34m\u001b[0m\u001b[0;34m\u001b[0m\u001b[0m\n\u001b[0;32m----> 7\u001b[0;31m \u001b[0mb\u001b[0m\u001b[0;34m=\u001b[0m\u001b[0msum\u001b[0m\u001b[0;34m(\u001b[0m\u001b[0ml\u001b[0m\u001b[0;34m)\u001b[0m\u001b[0;34m\u001b[0m\u001b[0;34m\u001b[0m\u001b[0m\n\u001b[0m\u001b[1;32m      8\u001b[0m \u001b[0mprint\u001b[0m\u001b[0;34m(\u001b[0m\u001b[0;34m\"the sum of elements\"\u001b[0m\u001b[0;34m,\u001b[0m\u001b[0mb\u001b[0m\u001b[0;34m)\u001b[0m\u001b[0;34m\u001b[0m\u001b[0;34m\u001b[0m\u001b[0m\n\u001b[1;32m      9\u001b[0m \u001b[0;34m\u001b[0m\u001b[0m\n",
            "\u001b[0;31mTypeError\u001b[0m: 'int' object is not callable"
          ]
        }
      ]
    },
    {
      "cell_type": "code",
      "source": [
        "\n",
        "numbers = []  # empty list to store numbers\n",
        "\n",
        "a = int(input(\"Enter a number (0 to stop): \"))\n",
        "\n",
        "while a != 0:\n",
        "    numbers.append(a)\n",
        "    a = int(input(\"Enter a number (0 to stop): \"))\n",
        "\n",
        "print(\"The numbers entered before 0 are:\", numbers)\n",
        "\n",
        "total = sum(numbers)\n",
        "print(\"The sum of all numbers is:\", total)\n"
      ],
      "metadata": {
        "colab": {
          "base_uri": "https://localhost:8080/",
          "height": 263
        },
        "id": "2UreQdSxGX2i",
        "outputId": "1fabeb83-d9c1-4914-ab53-30956e97950c"
      },
      "id": "2UreQdSxGX2i",
      "execution_count": 30,
      "outputs": [
        {
          "output_type": "stream",
          "name": "stdout",
          "text": [
            "Enter a number (0 to stop): 3\n",
            "Enter a number (0 to stop): 4\n",
            "Enter a number (0 to stop): 0\n",
            "The numbers entered before 0 are: [3, 4]\n"
          ]
        },
        {
          "output_type": "error",
          "ename": "TypeError",
          "evalue": "'int' object is not callable",
          "traceback": [
            "\u001b[0;31m---------------------------------------------------------------------------\u001b[0m",
            "\u001b[0;31mTypeError\u001b[0m                                 Traceback (most recent call last)",
            "\u001b[0;32m/tmp/ipython-input-87840073.py\u001b[0m in \u001b[0;36m<cell line: 0>\u001b[0;34m()\u001b[0m\n\u001b[1;32m      9\u001b[0m \u001b[0mprint\u001b[0m\u001b[0;34m(\u001b[0m\u001b[0;34m\"The numbers entered before 0 are:\"\u001b[0m\u001b[0;34m,\u001b[0m \u001b[0mnumbers\u001b[0m\u001b[0;34m)\u001b[0m\u001b[0;34m\u001b[0m\u001b[0;34m\u001b[0m\u001b[0m\n\u001b[1;32m     10\u001b[0m \u001b[0;34m\u001b[0m\u001b[0m\n\u001b[0;32m---> 11\u001b[0;31m \u001b[0mtotal\u001b[0m \u001b[0;34m=\u001b[0m \u001b[0msum\u001b[0m\u001b[0;34m(\u001b[0m\u001b[0mnumbers\u001b[0m\u001b[0;34m)\u001b[0m\u001b[0;34m\u001b[0m\u001b[0;34m\u001b[0m\u001b[0m\n\u001b[0m\u001b[1;32m     12\u001b[0m \u001b[0mprint\u001b[0m\u001b[0;34m(\u001b[0m\u001b[0;34m\"The sum of all numbers is:\"\u001b[0m\u001b[0;34m,\u001b[0m \u001b[0mtotal\u001b[0m\u001b[0;34m)\u001b[0m\u001b[0;34m\u001b[0m\u001b[0;34m\u001b[0m\u001b[0m\n",
            "\u001b[0;31mTypeError\u001b[0m: 'int' object is not callable"
          ]
        }
      ]
    },
    {
      "cell_type": "code",
      "source": [
        "\n",
        "def calculator(num1,num2,operator):\n",
        "  if operator==\"+\":\n",
        "     return num1+num2\n",
        "  elif operator==\"-\":\n",
        "     return num1-num2\n",
        "  elif operator==\"*\":\n",
        "     return num1*num2\n",
        "  elif operator==\"/\":\n",
        "     return num1/num2\n",
        "  else:\n",
        "     return \"invalid operator\"\n",
        "n1=int(input(\"enter the 1no.\"))\n",
        "n2=int(input(\"enter the 2no.\"))\n",
        "op=input(\"enter the operator\")\n",
        "calculator(n1,n2,op)"
      ],
      "metadata": {
        "id": "f9OIiYa4GzrC"
      },
      "id": "f9OIiYa4GzrC",
      "execution_count": null,
      "outputs": []
    },
    {
      "cell_type": "code",
      "source": [
        "a=int(input(\"enter the elements of list\"))\n",
        "l=[]\n",
        "p=0\n",
        "n=0\n",
        "z=0\n",
        "for i in range(0,a):\n",
        "  b=int(input(\"enter the elements of list\"))\n",
        "  l.append(b)\n",
        "print(l)\n",
        " for j in l:\n",
        "   if j>0:\n",
        "    p=p+1\n",
        "   elif j<0:\n",
        "    n=n+1\n",
        "   elif j==0:\n",
        "    z=z=1\n",
        "print(p)\n",
        "print(n)\n",
        "print(z)\n"
      ],
      "metadata": {
        "id": "-gT9WCN1Inyj"
      },
      "id": "-gT9WCN1Inyj",
      "execution_count": null,
      "outputs": []
    },
    {
      "cell_type": "code",
      "source": [
        "\n",
        "a=int(input(\"enter the elements of list\"))\n",
        "l=[]\n",
        "for i in range(0,a):\n",
        "  b=int(input(\"enter the elements of list\"))\n",
        "  l.append(b)\n",
        "print(l)\n",
        "b=max(l)\n",
        "c=min(l)\n",
        "print(b)\n",
        "print(c)"
      ],
      "metadata": {
        "id": "346aB9E4JqMs"
      },
      "id": "346aB9E4JqMs",
      "execution_count": null,
      "outputs": []
    },
    {
      "cell_type": "code",
      "source": [
        "print(\"for cheacking palindrom type 1,for even odd 2, for perfect 3\")\n",
        "a=int(input(\"enter the no.\"))\n",
        "if a==1:\n",
        "  b=input(\"enter the text\")\n",
        "  if b[::-1]==b:\n",
        "    print(\"palindrome\")\n",
        "  else:\n",
        "    print(\"not a palindrome\")\n",
        "elif a==2:\n",
        "  l=[]\n",
        "  odd=0\n",
        "  even=0\n",
        "  a=int(input(\" no. of elements in list \"))\n",
        "  for i in range(a):\n",
        "    b=int(input(\"enter the element of list\"))\n",
        "    l.append(b)\n",
        "    for j in l:\n",
        "      if j%2==0:\n",
        "        even=even+1\n",
        "      else:\n",
        "        odd=odd+1\n",
        "print(even)\n",
        "print(odd)\n",
        "elif a==3:\n",
        "  a = int(input(\"Enter the number: \"))\n",
        "sum = 0\n",
        "\n",
        "for i in range(1, a):\n",
        "    if a % i == 0:   # check if i is a divisor\n",
        "        sum = sum + i\n",
        "\n",
        "if a == sum:\n",
        "    print(\"Number is perfect\")\n",
        "else:\n",
        "    print(\"Number is not perfect\")\n",
        "\n"
      ],
      "metadata": {
        "id": "E36UjmVQKoBa"
      },
      "id": "E36UjmVQKoBa",
      "execution_count": null,
      "outputs": []
    },
    {
      "cell_type": "code",
      "source": [
        "a={}\n",
        "for i in range (5):\n",
        "  name=input(\"enter the name  \")\n",
        "  age=int(input(\"enter the age\"))\n",
        "a[name]=age\n",
        "print(a)\n",
        "for name,age in a.items():\n",
        "  if age>18:\n",
        "    print(name)"
      ],
      "metadata": {
        "id": "WHTyzGLoLqdy"
      },
      "id": "WHTyzGLoLqdy",
      "execution_count": null,
      "outputs": []
    },
    {
      "cell_type": "code",
      "source": [
        "a=input(\"enter \")\n",
        "if a.isdigit():\n",
        "  num = int(user_input)\n",
        "  if num % 2 == 0:\n",
        "    print(\"The number is even.\")\n",
        "  else:\n",
        "    print(\"The number is odd.\")\n",
        "else:\n",
        "    print(\"The input is a string.\")\n",
        "    print(\"Length of the string is:\", len(a))"
      ],
      "metadata": {
        "id": "O-Ddxqb-NTW-"
      },
      "id": "O-Ddxqb-NTW-",
      "execution_count": null,
      "outputs": []
    },
    {
      "cell_type": "code",
      "source": [
        "num = int(input(\"Enter a number: \"))\n",
        "\n",
        "factorial = 1  # initialize result\n",
        "\n",
        "if num < 0:\n",
        "    print(\"Factorial does not exist for negative numbers.\")\n",
        "elif num == 0:\n",
        "    print(\"The factorial of 0 is 1.\")\n",
        "else:\n",
        "    for i in range(1, num + 1):\n",
        "        factorial = factorial * i\n",
        "    print(f\"The factorial of {num} is {factorial}.\")"
      ],
      "metadata": {
        "id": "bM1f0UV7Oh8c"
      },
      "id": "bM1f0UV7Oh8c",
      "execution_count": null,
      "outputs": []
    },
    {
      "cell_type": "code",
      "source": [
        "d={}\n",
        "n=input(\"name\")\n",
        "m=int(input(\"marks\"))\n",
        "d[n]=m\n",
        "a=max(d.values())\n",
        "for name,marks in d.items():\n",
        "  if marks==a:\n",
        "    print(name)\n",
        "\n"
      ],
      "metadata": {
        "id": "QzTiPjaZO96d"
      },
      "id": "QzTiPjaZO96d",
      "execution_count": null,
      "outputs": []
    },
    {
      "cell_type": "code",
      "source": [
        "numbers = []\n",
        "\n",
        "# take 10 integers from user\n",
        "for i in range(10):\n",
        "    num = int(input(\"Enter number: \"))\n",
        "    numbers.append(num)\n",
        "\n",
        "# create a new list with unique elements\n",
        "unique_numbers = []\n",
        "for num in numbers:\n",
        "    if num not in unique_numbers:\n",
        "        unique_numbers.append(num)\n",
        "\n",
        "# display the new list\n",
        "print(\"Original list:\", numbers)\n",
        "print(\"List with unique elements:\", unique_numbers)"
      ],
      "metadata": {
        "id": "pzGDGmvvQF6W"
      },
      "id": "pzGDGmvvQF6W",
      "execution_count": null,
      "outputs": []
    },
    {
      "cell_type": "code",
      "source": [
        "def prim(b)\n",
        "a=int(input(\"enter the no.\"))\n",
        "if a>1:\n",
        "  for i in range(2,a):\n",
        "    if a%2==0:\n",
        "      print(\"no. is not a prime\")\n",
        "    else:\n",
        "      print(\"no. is prime\")\n",
        "else:\n",
        "  print(\"no. is not a prime\")\n",
        "prim(a)"
      ],
      "metadata": {
        "id": "W8G6oB0AQaIj"
      },
      "id": "W8G6oB0AQaIj",
      "execution_count": null,
      "outputs": []
    },
    {
      "cell_type": "code",
      "source": [
        "for i in range(5,0,-1):\n",
        "  for j in range(5,i-1,-1):\n",
        "    print(j,end=\"\")\n",
        "  print()"
      ],
      "metadata": {
        "id": "WzMeVF7DQzR5"
      },
      "id": "WzMeVF7DQzR5",
      "execution_count": null,
      "outputs": []
    },
    {
      "cell_type": "code",
      "source": [
        "sentence = input(\"Enter a sentence: \")\n",
        "\n",
        "# Split the sentence into words using space as separator\n",
        "words = sentence.split()\n",
        "\n",
        "# Count the number of words\n",
        "word_count = len(words)\n",
        "\n",
        "# Display the result\n",
        "print(\"Number of words in the sentence:\", word_count)"
      ],
      "metadata": {
        "id": "BwCaJjQRRrNl"
      },
      "id": "BwCaJjQRRrNl",
      "execution_count": null,
      "outputs": []
    }
  ],
  "metadata": {
    "kernelspec": {
      "display_name": "Python 3 (ipykernel)",
      "language": "python",
      "name": "python3"
    },
    "language_info": {
      "codemirror_mode": {
        "name": "ipython",
        "version": 3
      },
      "file_extension": ".py",
      "mimetype": "text/x-python",
      "name": "python",
      "nbconvert_exporter": "python",
      "pygments_lexer": "ipython3",
      "version": "3.11.11"
    },
    "colab": {
      "provenance": []
    }
  },
  "nbformat": 4,
  "nbformat_minor": 5
}